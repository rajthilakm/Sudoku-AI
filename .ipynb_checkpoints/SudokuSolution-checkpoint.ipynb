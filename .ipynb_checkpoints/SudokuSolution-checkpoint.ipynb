{
 "cells": [
  {
   "cell_type": "code",
   "execution_count": 194,
   "metadata": {},
   "outputs": [],
   "source": [
    "from utils import *\n",
    "\n",
    "def reduce_puzzle(values):\n",
    "    stalled = False\n",
    "    while not stalled:\n",
    "        # Check how many boxes have a determined value\n",
    "        solved_values_before = len([box for box in values.keys() if len(values[box]) == 1])\n",
    "        # Your code here: Use the Eliminate Strategy\n",
    "        values=eliminate(values)\n",
    "        # Your code here: Use the Only Choice Strategy\n",
    "        values=only_choice(values)\n",
    "        #values=naked_twins(values)\n",
    "        # Check how many boxes have a determined value, to compare\n",
    "        solved_values_after = len([box for box in values.keys() if len(values[box]) == 1])\n",
    "        # If no new values were added, stop the loop.\n",
    "        stalled = solved_values_before == solved_values_after\n",
    "        # Sanity check, return False if there is a box with zero available values:\n",
    "        if len([box for box in values.keys() if len(values[box]) == 0]):\n",
    "            return False\n",
    "    return values\n",
    "\n",
    "def cross(a, b):\n",
    "      return [s+t for s in a for t in b]\n",
    "    \n",
    "boxes = cross(rows, cols)\n",
    "\n",
    "row_units = [cross(r, cols) for r in rows]\n",
    "# Element example:\n",
    "# row_units[0] = ['A1', 'A2', 'A3', 'A4', 'A5', 'A6', 'A7', 'A8', 'A9']\n",
    "# This is the top most row.\n",
    "\n",
    "column_units = [cross(rows, c) for c in cols]\n",
    "# Element example:\n",
    "# column_units[0] = ['A1', 'B1', 'C1', 'D1', 'E1', 'F1', 'G1', 'H1', 'I1']\n",
    "# This is the left most column.\n",
    "\n",
    "square_units = [cross(rs, cs) for rs in ('ABC','DEF','GHI') for cs in ('123','456','789')]\n",
    "# Element example:\n",
    "# square_units[0] = ['A1', 'A2', 'A3', 'B1', 'B2', 'B3', 'C1', 'C2', 'C3']\n",
    "# This is the top left square.\n",
    "\n",
    "unitlist = row_units + column_units + square_units\n",
    "\n",
    "def generateForwardDiagonalUnits():\n",
    "    iterCount=1\n",
    "    fwdDiag=[]\n",
    "    for x in ('ABCDEFGHI'):\n",
    "        fwdDiag.append(x+str(iterCount))\n",
    "        iterCount+=1\n",
    "    return fwdDiag   \n",
    "\n",
    "def generateBackwardDiagonalUnits():\n",
    "    iterCount=9\n",
    "    bwdDiag=[]\n",
    "    for x in ('ABCDEFGHI'):\n",
    "        bwdDiag.append(x+str(iterCount))\n",
    "        iterCount-=1\n",
    "    return bwdDiag    \n",
    "\n",
    "def eliminate(values):\n",
    "    \"\"\"Eliminate values from peers of each box with a single value.\n",
    "\n",
    "    Go through all the boxes, and whenever there is a box with a single value,\n",
    "    eliminate this value from the set of values of all its peers.\n",
    "\n",
    "    Args:\n",
    "        values: Sudoku in dictionary form.\n",
    "    Returns:\n",
    "        Resulting Sudoku in dictionary form after eliminating values.\n",
    "    \"\"\"\n",
    "    for x in values.keys():\n",
    "        if len(values[x])==1:\n",
    "            val=values[x]\n",
    "            pl=peer_list(x)\n",
    "            for peerkeys in pl:\n",
    "                values[peerkeys]=values[peerkeys].replace(val,\"\")\n",
    "    return values\n",
    "    pass\n",
    "\n",
    "def peer_list(key):\n",
    "    rows='ABCDEFGHI'\n",
    "    columns='123456789'\n",
    "    unit_peers=[]\n",
    "    fwdDiag_peers=[]\n",
    "    bwdDiag_peers=[]\n",
    "    keyRow=key[0]\n",
    "    keyColumn=key[1]\n",
    "    row_peers=cross(keyRow,columns) \n",
    "    col_peers=cross(rows,keyColumn)\n",
    "    square_units=[cross (rs,cs) for rs in ('ABC','DEF','GHI') for cs in('123','456','789')]\n",
    "    fwdDiag_units=generateForwardDiagonalUnits()\n",
    "    bwdDiag_units=generateBackwardDiagonalUnits()\n",
    "    \n",
    "    for x in square_units:\n",
    "        if key in x:\n",
    "            unit_peers=x\n",
    "        else:\n",
    "            continue\n",
    "            \n",
    "    if key in fwdDiag_units:\n",
    "        fwdDiag_peers=fwdDiag_units\n",
    "    elif key in bwdDiag_units:\n",
    "        bwdDiag_peers=bwdDiag_units      \n",
    "            \n",
    "    peer_list=row_peers+col_peers+unit_peers+fwdDiag_peers+bwdDiag_peers\n",
    "    peer_list=list(set(peer_list))\n",
    "    peer_list.remove(key)\n",
    "    return peer_list\n",
    "\n",
    "def only_choice(values):\n",
    "    \"\"\"Finalize all values that are the only choice for a unit.\n",
    "\n",
    "    Go through all the units, and whenever there is a unit with a value\n",
    "    that only fits in one box, assign the value to this box.\n",
    "\n",
    "    Input: Sudoku in dictionary form.\n",
    "    Output: Resulting Sudoku in dictionary form after filling in only choices.\n",
    "    \"\"\"\n",
    "    # TODO: Implement only choice strategy here\n",
    "    \n",
    "    for x in values.keys():\n",
    "        if len(values[x])>1:\n",
    "            val=values[x]\n",
    "            valList=list(val)\n",
    "            pl=peer_list(x)\n",
    "            for eachval in valList:\n",
    "                #print (eachval)\n",
    "                peerval=[]\n",
    "                for peerkeys in pl:\n",
    "                    peerval.extend(list(values[peerkeys]))\n",
    "                if eachval in peerval:\n",
    "                    continue\n",
    "                else:\n",
    "                    values[x]=eachval\n",
    "        else: \n",
    "            continue\n",
    "    return values\n",
    "    pass\n",
    "\n",
    "def grid_values(grid):\n",
    "    \"\"\"Convert grid string into {<box>: <value>} dict with '123456789' value for empties.\n",
    "\n",
    "    Args:\n",
    "        grid: Sudoku grid in string form, 81 characters long\n",
    "    Returns:\n",
    "        Sudoku grid in dictionary form:\n",
    "        - keys: Box labels, e.g. 'A1'\n",
    "        - values: Value in corresponding box, e.g. '8', or '123456789' if it is empty.\n",
    "    \"\"\"\n",
    "    \n",
    "    if len(grid)!=81:\n",
    "        print('Board Incomplete. Please try again')\n",
    "    else:\n",
    "        keys= [row_boxes for x in row_units for row_boxes in x] \n",
    "        inputList=[]\n",
    "        for x in grid:\n",
    "            if x=='.':\n",
    "                x='123456789'\n",
    "            inputList.append(x)\n",
    "        return dict(zip(keys,inputList))\n",
    "    pass"
   ]
  },
  {
   "cell_type": "code",
   "execution_count": 258,
   "metadata": {},
   "outputs": [],
   "source": [
    "grid2 = '........4...8.9....5...2139.....6.....92346.....9.....9754...2....5.7...2........'\n",
    "values = grid_values(grid2)"
   ]
  },
  {
   "cell_type": "code",
   "execution_count": 259,
   "metadata": {},
   "outputs": [
    {
     "name": "stdout",
     "output_type": "stream",
     "text": [
      "123456789 123456789 123456789 |123456789 123456789 123456789 |123456789 123456789     4     \n",
      "123456789 123456789 123456789 |    8     123456789     9     |123456789 123456789 123456789 \n",
      "123456789     5     123456789 |123456789 123456789     2     |    1         3         9     \n",
      "------------------------------+------------------------------+------------------------------\n",
      "123456789 123456789 123456789 |123456789 123456789     6     |123456789 123456789 123456789 \n",
      "123456789 123456789     9     |    2         3         4     |    6     123456789 123456789 \n",
      "123456789 123456789 123456789 |    9     123456789 123456789 |123456789 123456789 123456789 \n",
      "------------------------------+------------------------------+------------------------------\n",
      "    9         7         5     |    4     123456789 123456789 |123456789     2     123456789 \n",
      "123456789 123456789 123456789 |    5     123456789     7     |123456789 123456789 123456789 \n",
      "    2     123456789 123456789 |123456789 123456789 123456789 |123456789 123456789 123456789 \n"
     ]
    }
   ],
   "source": [
    "display(values)"
   ]
  },
  {
   "cell_type": "code",
   "execution_count": 260,
   "metadata": {},
   "outputs": [],
   "source": [
    "rp=reduce_puzzle(values)"
   ]
  },
  {
   "cell_type": "code",
   "execution_count": 261,
   "metadata": {},
   "outputs": [
    {
     "name": "stdout",
     "output_type": "stream",
     "text": [
      "  167      9     123678 |  1367    1567    135   |   25     568      4    \n",
      "  1346    1246   12346  |   8      1456     9    |   25      7      256   \n",
      "  4678     5      467   |   67     467      2    |   1       3       9    \n",
      "------------------------+------------------------+------------------------\n",
      " 134578  12348   123478 |   17     1578     6    | 234579  14589   123578 \n",
      "  1578     18      9    |   2       3       4    |   6      158     1578  \n",
      "1345678  123468 1234678 |   9      1578     15   | 23457    1458   123578 \n",
      "------------------------+------------------------+------------------------\n",
      "   9       7       5    |   4       16      13   |   8       2      136   \n",
      " 13468     38    13468  |   5       2       7    |  349     1469    136   \n",
      "   2     13468   13468  |  136     1689    138   | 34579   14569    1567  \n"
     ]
    }
   ],
   "source": [
    "display(rp)"
   ]
  },
  {
   "cell_type": "code",
   "execution_count": 23,
   "metadata": {},
   "outputs": [],
   "source": [
    "def generateForwardDiagonalUnits():\n",
    "    iterCount=1\n",
    "    fwdDiag=[]\n",
    "    for x in ('ABCDEFGHI'):\n",
    "        fwdDiag.append(x+str(iterCount))\n",
    "        iterCount+=1\n",
    "    return fwdDiag    \n"
   ]
  },
  {
   "cell_type": "code",
   "execution_count": 24,
   "metadata": {},
   "outputs": [
    {
     "data": {
      "text/plain": [
       "['A1', 'B2', 'C3', 'D4', 'E5', 'F6', 'G7', 'H8', 'I9']"
      ]
     },
     "execution_count": 24,
     "metadata": {},
     "output_type": "execute_result"
    }
   ],
   "source": [
    "generateForwardDiagonalUnits()"
   ]
  },
  {
   "cell_type": "code",
   "execution_count": 25,
   "metadata": {},
   "outputs": [],
   "source": [
    "def generateBackwardDiagonalUnits():\n",
    "    iterCount=9\n",
    "    fwdDiag=[]\n",
    "    for x in ('ABCDEFGHI'):\n",
    "        fwdDiag.append(x+str(iterCount))\n",
    "        iterCount-=1\n",
    "    return fwdDiag    \n"
   ]
  },
  {
   "cell_type": "code",
   "execution_count": 26,
   "metadata": {},
   "outputs": [
    {
     "data": {
      "text/plain": [
       "['A9', 'B8', 'C7', 'D6', 'E5', 'F4', 'G3', 'H2', 'I1']"
      ]
     },
     "execution_count": 26,
     "metadata": {},
     "output_type": "execute_result"
    }
   ],
   "source": [
    "generateBackwardDiagonalUnits()"
   ]
  },
  {
   "cell_type": "code",
   "execution_count": 28,
   "metadata": {},
   "outputs": [
    {
     "data": {
      "text/plain": [
       "['A1',\n",
       " 'B2',\n",
       " 'C3',\n",
       " 'D4',\n",
       " 'E5',\n",
       " 'F6',\n",
       " 'G7',\n",
       " 'H8',\n",
       " 'I9',\n",
       " 'A9',\n",
       " 'B8',\n",
       " 'C7',\n",
       " 'D6',\n",
       " 'E5',\n",
       " 'F4',\n",
       " 'G3',\n",
       " 'H2',\n",
       " 'I1']"
      ]
     },
     "execution_count": 28,
     "metadata": {},
     "output_type": "execute_result"
    }
   ],
   "source": [
    "generateForwardDiagonalUnits()+generateBackwardDiagonalUnits()+[]"
   ]
  },
  {
   "cell_type": "code",
   "execution_count": 46,
   "metadata": {},
   "outputs": [],
   "source": [
    "pl=peer_list('A9')"
   ]
  },
  {
   "cell_type": "code",
   "execution_count": 47,
   "metadata": {},
   "outputs": [],
   "source": [
    "pl.sort()"
   ]
  },
  {
   "cell_type": "code",
   "execution_count": 48,
   "metadata": {},
   "outputs": [
    {
     "data": {
      "text/plain": [
       "['A1',\n",
       " 'A2',\n",
       " 'A3',\n",
       " 'A4',\n",
       " 'A5',\n",
       " 'A6',\n",
       " 'A7',\n",
       " 'A8',\n",
       " 'B7',\n",
       " 'B8',\n",
       " 'B9',\n",
       " 'C7',\n",
       " 'C8',\n",
       " 'C9',\n",
       " 'D6',\n",
       " 'D9',\n",
       " 'E5',\n",
       " 'E9',\n",
       " 'F4',\n",
       " 'F9',\n",
       " 'G3',\n",
       " 'G9',\n",
       " 'H2',\n",
       " 'H9',\n",
       " 'I1',\n",
       " 'I9']"
      ]
     },
     "execution_count": 48,
     "metadata": {},
     "output_type": "execute_result"
    }
   ],
   "source": [
    "pl"
   ]
  },
  {
   "cell_type": "code",
   "execution_count": 317,
   "metadata": {},
   "outputs": [],
   "source": [
    "def naked_twins(values):\n",
    "    \"\"\"Eliminate values using the naked twins strategy.\n",
    "\n",
    "    Parameters\n",
    "    ----------\n",
    "    values(dict)\n",
    "        a dictionary of the form {'box_name': '123456789', ...}\n",
    "\n",
    "    Returns\n",
    "    -------\n",
    "    dict\n",
    "        The values dictionary with the naked twins eliminated from peers\n",
    "\n",
    "    Notes\n",
    "    -----\n",
    "    Your solution can either process all pairs of naked twins from the input once,\n",
    "    or it can continue processing pairs of naked twins until there are no such\n",
    "    pairs remaining -- the project assistant test suite will accept either\n",
    "    convention. However, it will not accept code that does not process all pairs\n",
    "    of naked twins from the original input. (For example, if you start processing\n",
    "    pairs of twins and eliminate another pair of twins before the second pair\n",
    "    is processed then your code will fail the PA test suite.)\n",
    "\n",
    "    The first convention is preferred for consistency with the other strategies,\n",
    "    and because it is simpler (since the reduce_puzzle function already calls this\n",
    "    strategy repeatedly).\n",
    "    \"\"\"\n",
    "    \"\"\"\n",
    "      \n",
    "    \"\"\"\n",
    "\n",
    "    for keys in values.keys():\n",
    "        if len(values[keys])==2:\n",
    "            val=values[keys]\n",
    "            pl=peer_list(keys)\n",
    "            for peerkeys in pl:\n",
    "                if values[peerkeys]==val:\n",
    "                    print (peerkeys)\n",
    "                    print (keys)\n",
    "                    if peerkeys[0]==keys[0]:\n",
    "                        values=roweliminaton(keys[0],val,values)\n",
    "                        values=unitelimination(keys,val,values)\n",
    "                    elif peerkeys[1]==keys[1]:\n",
    "                        values=colelimination(keys[1],val,values)\n",
    "                        values=unitelimination(keys,val,values)\n",
    "                    else:\n",
    "                        values=unitelimination(keys,val,values)\n",
    "                nakedvalkeys.append(peerkeys)                                  \n",
    "    return values\n",
    "    # TODO: Implement this function!\n",
    "    raise NotImplementedError\n",
    "    \n",
    "def roweliminaton(row,val,values):\n",
    "    columns='123456789'\n",
    "    row_peers=cross(row,columns)\n",
    "    for keys in row_peers:\n",
    "        if values[keys]==val:\n",
    "            continue\n",
    "        else:\n",
    "            for x in val:\n",
    "                values[keys]=values[keys].replace(x,\"\")\n",
    "    return values            \n",
    "    \n",
    "def colelimination(col,val,values):  \n",
    "    rows='ABCDEFGHI'\n",
    "    col_peers=cross(rows,col)\n",
    "    for keys in col_peers:\n",
    "        if values[keys]==val:\n",
    "            continue\n",
    "        else:\n",
    "            for x in val:\n",
    "                values[keys]=values[keys].replace(x,\"\")\n",
    "    return values         \n",
    "\n",
    "def unitelimination(box,val,values):\n",
    "    square_units=[cross (rs,cs) for rs in ('ABC','DEF','GHI') for cs in('123','456','789')]\n",
    "    for x in square_units:\n",
    "        if box in x:\n",
    "            unit_peers=x\n",
    "        else:\n",
    "            continue\n",
    "    \n",
    "    for keys in unit_peers:\n",
    "        if values[keys]==val:\n",
    "            continue\n",
    "        else:\n",
    "            for x in val:\n",
    "                values[keys]=values[keys].replace(x,\"\")\n",
    "    return values\n",
    "    "
   ]
  },
  {
   "cell_type": "code",
   "execution_count": 294,
   "metadata": {},
   "outputs": [
    {
     "name": "stdout",
     "output_type": "stream",
     "text": [
      "  167      9     123678 |  1367    1567    135   |   25     568      4    \n",
      "  1346    1246   12346  |   8      1456     9    |   25      7      256   \n",
      "  4678     5      467   |   67     467      2    |   1       3       9    \n",
      "------------------------+------------------------+------------------------\n",
      " 134578  12348   123478 |   17     1578     6    |  3479   14589   123578 \n",
      "  1578     18      9    |   2       3       4    |   6      158     1578  \n",
      "1345678  123468 1234678 |   9      1578     15   |  347     1458   123578 \n",
      "------------------------+------------------------+------------------------\n",
      "   9       7       5    |   4       16      13   |   8       2      136   \n",
      " 13468     38    13468  |   5       2       7    |  349     1469    136   \n",
      "   2     13468   13468  |  136     1689    138   |  3479   14569    1567  \n"
     ]
    }
   ],
   "source": [
    "display(rp)"
   ]
  },
  {
   "cell_type": "code",
   "execution_count": 306,
   "metadata": {},
   "outputs": [],
   "source": [
    "x=colelimination('7','25',values=rp)"
   ]
  },
  {
   "cell_type": "code",
   "execution_count": 287,
   "metadata": {},
   "outputs": [
    {
     "data": {
      "text/plain": [
       "['A1', 'A2', 'A3', 'B1', 'B2', 'B3', 'C1', 'C2', 'C3']"
      ]
     },
     "execution_count": 287,
     "metadata": {},
     "output_type": "execute_result"
    }
   ],
   "source": [
    "unitelimniation('A3')"
   ]
  },
  {
   "cell_type": "code",
   "execution_count": 273,
   "metadata": {},
   "outputs": [
    {
     "data": {
      "text/plain": [
       "'A'"
      ]
     },
     "execution_count": 273,
     "metadata": {},
     "output_type": "execute_result"
    }
   ],
   "source": [
    "list(dictx.keys())[0][0]"
   ]
  },
  {
   "cell_type": "code",
   "execution_count": 318,
   "metadata": {},
   "outputs": [
    {
     "name": "stdout",
     "output_type": "stream",
     "text": [
      "start\n",
      "B7\n",
      "A7\n",
      "A7\n",
      "B7\n",
      "['E7', 'A4', 'C9', 'H7', 'A1', 'A9', 'F7', 'B7', 'B8', 'A6', 'A2', 'I7', 'A5', 'G7', 'A8', 'D7', 'C7', 'A3', 'C8', 'B9', 'F8', 'A4', 'C9', 'A1', 'A9', 'A7', 'E8', 'D8', 'G8', 'B7', 'B8', 'A6', 'A2', 'A5', 'H8', 'C7', 'A3', 'I8', 'C8', 'B9', 'E7', 'C9', 'B6', 'H7', 'B1', 'A9', 'A7', 'F7', 'B4', 'B5', 'B8', 'B3', 'I7', 'G7', 'A8', 'D7', 'C7', 'C8', 'B2', 'B9', 'A4', 'H4', 'F4', 'C9', 'B6', 'I4', 'G4', 'D4', 'C5', 'B4', 'B5', 'A6', 'A5', 'C6', 'E4', 'C2', 'C7', 'C3', 'C8', 'C1', 'F6', 'A4', 'H4', 'F4', 'I4', 'G4', 'A1', 'D9', 'B4', 'D5', 'D8', 'E5', 'I9', 'D2', 'D3', 'C4', 'F5', 'E4', 'G7', 'H8', 'D7', 'C3', 'E6', 'B2', 'D1', 'D6', 'E7', 'I2', 'E8', 'F2', 'F1', 'E5', 'D2', 'D3', 'F3', 'A2', 'E9', 'H2', 'E4', 'E1', 'C2', 'G2', 'E3', 'E6', 'B2', 'D1', 'F8', 'F4', 'B6', 'A1', 'D4', 'F7', 'G6', 'F2', 'F1', 'E5', 'I9', 'F3', 'A6', 'C6', 'F5', 'E4', 'F9', 'I6', 'G7', 'H8', 'C3', 'E6', 'B2', 'D5', 'H6', 'D6', 'G9', 'H4', 'I4', 'G4', 'G1', 'C5', 'G6', 'B5', 'E5', 'G8', 'H5', 'A5', 'F5', 'G7', 'I6', 'G2', 'G3', 'I5', 'D5', 'H6', 'F6', 'G9', 'H4', 'B6', 'I4', 'G4', 'G1', 'G8', 'H5', 'G5', 'A6', 'C6', 'G7', 'I6', 'G2', 'G3', 'E6', 'I5', 'H6', 'D6', 'H9', 'H4', 'F4', 'H7', 'I2', 'A9', 'G1', 'E2', 'F2', 'E5', 'H5', 'D2', 'H1', 'B8', 'A2', 'I3', 'H3', 'C2', 'H8', 'G2', 'C7', 'G3', 'I1', 'B2', 'H6', 'D6']\n",
      "  167      9     123678 |  1367    1567    135   |   25      68      4    \n",
      "  1346    1246   12346  |   8      1456     9    |   25      7       6    \n",
      "  4678     5      467   |   67     467      2    |   1       3       9    \n",
      "------------------------+------------------------+------------------------\n",
      " 134578  12348   123478 |   17     1578     6    |  3479   14589   123578 \n",
      "  1578     18      9    |   2       3       4    |   6      158     1578  \n",
      "1345678  123468 1234678 |   9      1578     15   |  347     1458   123578 \n",
      "------------------------+------------------------+------------------------\n",
      "   9       7       5    |   4       16      13   |   8       2      136   \n",
      " 13468     38    13468  |   5       2       7    |  349     1469    136   \n",
      "   2     13468   13468  |  136     1689    138   |  3479   14569    1567  \n"
     ]
    }
   ],
   "source": [
    "display(naked_twins(rp))"
   ]
  },
  {
   "cell_type": "code",
   "execution_count": 325,
   "metadata": {},
   "outputs": [],
   "source": [
    "grid3='1.4.9..68956.18.34..84.695151.....868..6...1264..8..97781923645495.6.823.6.854179'"
   ]
  },
  {
   "cell_type": "code",
   "execution_count": 326,
   "metadata": {},
   "outputs": [],
   "source": [
    "values3=grid_values(grid3)"
   ]
  },
  {
   "cell_type": "code",
   "execution_count": null,
   "metadata": {},
   "outputs": [],
   "source": []
  }
 ],
 "metadata": {
  "kernelspec": {
   "display_name": "Python 3",
   "language": "python",
   "name": "python3"
  },
  "language_info": {
   "codemirror_mode": {
    "name": "ipython",
    "version": 3
   },
   "file_extension": ".py",
   "mimetype": "text/x-python",
   "name": "python",
   "nbconvert_exporter": "python",
   "pygments_lexer": "ipython3",
   "version": "3.6.3"
  }
 },
 "nbformat": 4,
 "nbformat_minor": 2
}
